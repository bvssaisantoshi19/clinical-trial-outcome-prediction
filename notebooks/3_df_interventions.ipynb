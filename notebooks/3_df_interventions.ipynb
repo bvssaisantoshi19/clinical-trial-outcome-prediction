{
 "cells": [
  {
   "cell_type": "markdown",
   "id": "6315331c-44c4-4291-8c19-9165ceef0110",
   "metadata": {},
   "source": [
    "# Preprocessing Notebook: `3_df_interventions.ipynb`\n",
    "\n",
    "### Description  \n",
    "Processes the **`interventions`** table from the AACT Clinical Trials database to create structured, model-ready features that represent the types and diversity of interventions used in clinical studies.\n",
    "\n",
    "### Key Steps  \n",
    "- Load data from the `interventions` table using SQLAlchemy.  \n",
    "- Remove null and duplicate records to ensure data integrity.  \n",
    "- Standardize all `intervention_type` values (lowercase formatting, cleaned categories).  \n",
    "- One-hot encode all unique intervention types (Drug, Device, Biological, Procedure, etc.).  \n",
    "- Aggregate encoded features at the **trial (`nct_id`) level**.  \n",
    "- Create new engineered features:  \n",
    "  - `intervention_count`: total number of intervention types per trial.  \n",
    "  - `has_multiple_intervention_types`: binary flag indicating if a trial includes more than one intervention type.  \n",
    "- Verify unique trial IDs and export the cleaned dataset for downstream merging.\n",
    "- Export final dataset to `../data/processed/interventions_clean.csv`\n",
    "\n",
    "### Output:\n",
    "- ✅ `interventions_clean.csv`"
   ]
  },
  {
   "cell_type": "code",
   "execution_count": 1,
   "id": "f2d9ccfe",
   "metadata": {},
   "outputs": [],
   "source": [
    "# Load packages and setup database connection\n",
    "from sqlalchemy import create_engine\n",
    "import pandas as pd\n",
    "from dotenv import load_dotenv\n",
    "import os\n",
    "\n",
    "load_dotenv()\n",
    "DATABASE_URL = os.getenv('DATABASE_URL')\n",
    "engine = create_engine(DATABASE_URL)"
   ]
  },
  {
   "cell_type": "code",
   "execution_count": 2,
   "id": "65c781ec",
   "metadata": {},
   "outputs": [],
   "source": [
    "# Load `interventions` table from the AACT database\n",
    "query = '''\n",
    "SELECT nct_id, intervention_type\n",
    "FROM ctgov.interventions;\n",
    "'''\n",
    "df_interventions = pd.read_sql(query, engine)"
   ]
  },
  {
   "cell_type": "code",
   "execution_count": 3,
   "id": "ff122b04",
   "metadata": {},
   "outputs": [],
   "source": [
    "# Drop null values and duplicates\n",
    "df_interventions = df_interventions.dropna(subset=['nct_id', 'intervention_type'])\n",
    "df_interventions = df_interventions.drop_duplicates()"
   ]
  },
  {
   "cell_type": "code",
   "execution_count": 4,
   "id": "ac26afad",
   "metadata": {},
   "outputs": [],
   "source": [
    "# Standardize `intervention_type` values to lowercase\n",
    "df_interventions['intervention_type'] = df_interventions['intervention_type'].str.lower()\n",
    "\n",
    "# One-hot encode intervention types\n",
    "df_interventions = pd.get_dummies(\n",
    "    df_interventions,\n",
    "    columns=['intervention_type'],\n",
    "    prefix='intervention',\n",
    "    dtype=int\n",
    ")\n",
    "\n",
    "# Aggregate one-hot encoded values per trial\n",
    "df_interventions = df_interventions.groupby('nct_id').max().reset_index()"
   ]
  },
  {
   "cell_type": "code",
   "execution_count": 5,
   "id": "cb4fb367",
   "metadata": {},
   "outputs": [],
   "source": [
    "# Derived features\n",
    "# Total number of intervention types used in each trial\n",
    "intervention_cols = [col for col in df_interventions.columns if col.startswith('intervention_')]\n",
    "df_interventions['intervention_count'] = df_interventions[intervention_cols].sum(axis=1)\n",
    "\n",
    "# Binary flag for multiple interventions\n",
    "df_interventions['has_multiple_intervention_types'] = (\n",
    "    df_interventions['intervention_count'] > 1\n",
    ").astype(int)"
   ]
  },
  {
   "cell_type": "code",
   "execution_count": 6,
   "id": "a3a66031",
   "metadata": {},
   "outputs": [],
   "source": [
    "# Ensure NCT IDs are unique and export final dataset\n",
    "assert df_interventions['nct_id'].is_unique, 'NCT ID duplication error!'\n",
    "df_interventions.to_csv('../data/processed/interventions_clean.csv', index=False)"
   ]
  },
  {
   "cell_type": "markdown",
   "id": "e8a3fb7e-13dd-41c0-8841-2d6c1041e949",
   "metadata": {},
   "source": [
    "---\n",
    "\n",
    "## Summary  \n",
    "This notebook successfully extracted, standardized, and encoded the intervention-level data from AACT.  \n",
    "\n",
    "Key highlights:\n",
    "- Generated one-hot encoded intervention flags for each trial.  \n",
    "- Derived interpretable metrics like **intervention count** and **multi-intervention flag**.  \n",
    "- Ensured dataset quality through duplicate removal and ID validation.  \n",
    "\n",
    "The resulting file — `interventions_clean.csv` — provides a **compact, structured representation** of trial interventions suitable for merging with other datasets in the modeling pipeline.\n",
    "\n",
    "---\n",
    "\n",
    "📂 **Next Notebook:** `4_df_conditions.ipynb` → Cleans and encodes medical condition categories associated with each trial.\n",
    "\n"
   ]
  },
  {
   "cell_type": "code",
   "execution_count": null,
   "id": "c54294c4-6591-465a-bbae-aa818b26a3f9",
   "metadata": {},
   "outputs": [],
   "source": []
  }
 ],
 "metadata": {
  "kernelspec": {
   "display_name": "Python 3 (ipykernel)",
   "language": "python",
   "name": "python3"
  },
  "language_info": {
   "codemirror_mode": {
    "name": "ipython",
    "version": 3
   },
   "file_extension": ".py",
   "mimetype": "text/x-python",
   "name": "python",
   "nbconvert_exporter": "python",
   "pygments_lexer": "ipython3",
   "version": "3.12.7"
  }
 },
 "nbformat": 4,
 "nbformat_minor": 5
}
