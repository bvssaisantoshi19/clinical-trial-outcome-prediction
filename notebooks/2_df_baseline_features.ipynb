{
 "cells": [
  {
   "cell_type": "markdown",
   "id": "f1c7c5f9",
   "metadata": {},
   "source": [
    "# Preprocessing Notebook: `2_df_baseline_features.ipynb`\n",
    "\n",
    "### Description  \n",
    "Processes baseline demographic data from the **`baseline_counts`** and **`baseline_measurements`** tables in the AACT Clinical Trials database.  \n",
    "Focuses on cleaning and transforming participant-level data related to **age**, **gender**, and **overall participant counts** to create a unified baseline feature table.\n",
    "\n",
    "### Key Steps  \n",
    "- Load and clean participant-level data from `baseline_counts` and `baseline_measurements` tables.  \n",
    "- Filter only **participant-based rows** and remove redundant or null entries.  \n",
    "- Standardize column names and categorical labels for **gender** and **age groups**.  \n",
    "- Pivot categorical values to wide format for better interpretability.  \n",
    "- Compute continuous variables such as **mean age** and **number analyzed** per trial.  \n",
    "- Merge all derived features into a single baseline dataset.\n",
    "- Final dataset is exported as `../data/processed/baseline_features_clean.csv`  \n",
    "\n",
    "### Output:\n",
    "- ✅ `baseline_features_clean.csv`\n",
    "\n",
    "**Note:** These features were later excluded from modeling due to high missingness and inconsistency."
   ]
  },
  {
   "cell_type": "code",
   "execution_count": 1,
   "id": "78ae4abd-d687-4c3b-8dd2-7c6259c82ed4",
   "metadata": {},
   "outputs": [],
   "source": [
    "from sqlalchemy import create_engine\n",
    "import pandas as pd\n",
    "from dotenv import load_dotenv\n",
    "import os\n",
    "\n",
    "load_dotenv(dotenv_path = \"../.env\")\n",
    "DATABASE_URL = os.getenv('DATABASE_URL')\n",
    "engine = create_engine(DATABASE_URL)\n"
   ]
  },
  {
   "cell_type": "code",
   "execution_count": 2,
   "id": "51d3571c",
   "metadata": {},
   "outputs": [],
   "source": [
    "# Load and process `baseline_counts` table\n",
    "query_counts = 'SELECT * FROM ctgov.baseline_counts'\n",
    "baseline_counts = pd.read_sql(query_counts, engine)\n",
    "\n",
    "# Keep only participant-level rows, remove unnecessary columns\n",
    "baseline_counts = baseline_counts.drop(columns=['id', 'scope'])\n",
    "baseline_counts = baseline_counts.dropna(subset=['nct_id']).drop_duplicates()\n",
    "baseline_counts = baseline_counts[baseline_counts['units'] == 'Participants']\n",
    "\n",
    "# Convert and aggregate count\n",
    "baseline_counts['count'] = pd.to_numeric(baseline_counts['count'], errors='coerce')\n",
    "baseline_counts = baseline_counts.groupby('nct_id')['count'].sum().reset_index()\n",
    "baseline_counts.rename(columns={'count': 'overall_count'}, inplace=True)"
   ]
  },
  {
   "cell_type": "code",
   "execution_count": 3,
   "id": "bd0b044a",
   "metadata": {},
   "outputs": [],
   "source": [
    "# Load and filter `baseline_measurements` table\n",
    "query_measurements = '''\n",
    "SELECT nct_id, category, title, units, param_value_num, number_analyzed, number_analyzed_units\n",
    "FROM ctgov.baseline_measurements;\n",
    "'''\n",
    "baseline_measurements = pd.read_sql(query_measurements, engine)\n",
    "\n",
    "# Filter for participant-level rows only\n",
    "baseline_measurements = baseline_measurements[\n",
    "    baseline_measurements['number_analyzed_units'] == 'Participants'\n",
    "].dropna(subset=['param_value_num']).drop_duplicates()"
   ]
  },
  {
   "cell_type": "code",
   "execution_count": 4,
   "id": "39448a64",
   "metadata": {},
   "outputs": [],
   "source": [
    "# Standardize titles and filter only relevant features (age & gender)\n",
    "baseline_measurements['title'] = baseline_measurements['title'].replace({\n",
    "    'Age, Categorical': 'age_categorical',\n",
    "    'Age Categorical': 'age_categorical',\n",
    "    'Age, Continuous': 'age_continuous',\n",
    "    'Age Continuous': 'age_continuous',\n",
    "    'Sex: Female, Male': 'gender',\n",
    "    'Gender': 'gender'\n",
    "})\n",
    "baseline_measurements = baseline_measurements[\n",
    "    baseline_measurements['title'].isin(['age_categorical', 'age_continuous', 'gender'])\n",
    "]"
   ]
  },
  {
   "cell_type": "code",
   "execution_count": 5,
   "id": "d0322092",
   "metadata": {},
   "outputs": [],
   "source": [
    "# Clean and normalize the `category` column\n",
    "# Handle nulls and assign default values\n",
    "baseline_measurements = baseline_measurements.dropna(subset=['units'])\n",
    "\n",
    "# Drop rows with missing category for age_categorical\n",
    "baseline_measurements = baseline_measurements[~(\n",
    "    (baseline_measurements['title'] == 'age_categorical') & \n",
    "    (baseline_measurements['category'].isna())\n",
    ")]\n",
    "\n",
    "# Fill missing category with 'overall' for age_continuous\n",
    "baseline_measurements.loc[\n",
    "    (baseline_measurements['title'] == 'age_continuous') & \n",
    "    (baseline_measurements['category'].isna()), 'category'\n",
    "] = 'overall'\n",
    "\n",
    "# Normalize values\n",
    "baseline_measurements['category'] = baseline_measurements['category'].replace({\n",
    "    'FEMALE': 'female', 'Female': 'female', 'MALE': 'male', 'Male': 'male',\n",
    "    '<=18 years': '<=18years', 'Between 18 and 65 years': '18-65years',\n",
    "    '18-64 years': '18-65years', 'Between 18 and 65 Years': '18-65years',\n",
    "    '>=65 years': '>=65years'\n",
    "})\n",
    "\n",
    "# Final filter on accepted categories\n",
    "accepted = ['female', 'male', '<=18years', '18-65years', '>=65years', 'overall']\n",
    "baseline_measurements = baseline_measurements[\n",
    "    baseline_measurements['category'].isin(accepted)\n",
    "]"
   ]
  },
  {
   "cell_type": "code",
   "execution_count": 6,
   "id": "db8f847e",
   "metadata": {},
   "outputs": [],
   "source": [
    "# Pivot and aggregate baseline data\n",
    "age_cat = baseline_measurements[baseline_measurements['title'] == 'age_categorical']\n",
    "gender = baseline_measurements[baseline_measurements['title'] == 'gender']\n",
    "age_cont = baseline_measurements[baseline_measurements['title'] == 'age_continuous']\n",
    "\n",
    "age_cat_pivot = age_cat.pivot_table(index='nct_id', columns='category', values='param_value_num', aggfunc='sum').reset_index()\n",
    "gender_pivot = gender.pivot_table(index='nct_id', columns='category', values='param_value_num', aggfunc='sum').reset_index()\n",
    "mean_age = age_cont.groupby('nct_id')['param_value_num'].mean().reset_index().rename(columns={'param_value_num': 'mean_age'})\n",
    "age_analyzed = age_cont.groupby('nct_id')['number_analyzed'].mean().reset_index().rename(columns={'number_analyzed': 'age_number_analyzed'})"
   ]
  },
  {
   "cell_type": "code",
   "execution_count": 7,
   "id": "18947bf7",
   "metadata": {},
   "outputs": [],
   "source": [
    "# Merge all baseline features\n",
    "from functools import reduce\n",
    "baseline_features = reduce(\n",
    "    lambda left, right: pd.merge(left, right, on='nct_id', how='outer'),\n",
    "    [age_cat_pivot, gender_pivot, mean_age, age_analyzed]\n",
    ")"
   ]
  },
  {
   "cell_type": "code",
   "execution_count": 8,
   "id": "6922b582",
   "metadata": {},
   "outputs": [],
   "source": [
    "# Merge with overall participant counts and export to CSV\n",
    "df_baseline_features = pd.merge(baseline_features, baseline_counts, on='nct_id', how='left')\n",
    "df_baseline_features = df_baseline_features[[\n",
    "    'nct_id', 'overall_count', 'female', 'male', '<=18years', '18-65years', '>=65years',\n",
    "    'mean_age', 'age_number_analyzed']]\n",
    "df_baseline_features.to_csv('../data/processed/baseline_features_clean.csv', index=False)"
   ]
  },
  {
   "cell_type": "markdown",
   "id": "2bd9b05f-c654-4a05-80ff-26aec7ff4893",
   "metadata": {},
   "source": [
    "---\n",
    "\n",
    "## Summary  \n",
    "This notebook successfully extracted, cleaned, and structured baseline demographic information from AACT’s baseline tables.  \n",
    "Key derived variables included **overall participant count**, **gender ratios**, and **age distributions** per trial.\n",
    "\n",
    "However, these features were **excluded from the final modeling dataset** because:\n",
    "- Only ~26% of trials reported complete demographic data.  \n",
    "- High **missingness** and **zero-inflated values** were observed across gender and age columns.  \n",
    "- Reporting patterns were inconsistent between trial arms and groups.  \n",
    "\n",
    "Thus, including them could introduce **bias and noise** in the predictive models.  \n",
    "The cleaning and exclusion rationale are documented here for transparency and reproducibility.\n",
    "\n",
    "---\n",
    "\n",
    "📂 **Next Notebook:** `3_df_interventions.ipynb` → Cleans and encodes intervention-related data for modeling.\n"
   ]
  },
  {
   "cell_type": "code",
   "execution_count": null,
   "id": "68097882-a12e-4309-aa26-957365b96b20",
   "metadata": {},
   "outputs": [],
   "source": []
  }
 ],
 "metadata": {
  "kernelspec": {
   "display_name": "Python 3 (ipykernel)",
   "language": "python",
   "name": "python3"
  },
  "language_info": {
   "codemirror_mode": {
    "name": "ipython",
    "version": 3
   },
   "file_extension": ".py",
   "mimetype": "text/x-python",
   "name": "python",
   "nbconvert_exporter": "python",
   "pygments_lexer": "ipython3",
   "version": "3.12.7"
  }
 },
 "nbformat": 4,
 "nbformat_minor": 5
}
