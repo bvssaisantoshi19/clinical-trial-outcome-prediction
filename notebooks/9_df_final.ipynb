{
 "cells": [
  {
   "cell_type": "markdown",
   "id": "5871e89f-768e-4d61-904f-653950b418ad",
   "metadata": {},
   "source": [
    "# Final Dataset Preparation: `9_df_final.ipynb`\n",
    "\n",
    "### Description  \n",
    "This notebook generates the **final modeling-ready datasets** after completing all Exploratory Data Analysis (EDA) steps.  \n",
    "It produces two optimized datasets—one for linear models (Logistic Regression) and one for tree-based models (XGBoost)—ensuring clean, feature-aligned inputs for training and evaluation.\n",
    "\n",
    "### Key Steps  \n",
    "- Loaded the cleaned dataset output from `EDA_3`.  \n",
    "- Dropped columns used only during visualization or exploratory inspection (e.g., raw enrollment, duration bins, sponsor role).  \n",
    "- Created **two modeling datasets**:  \n",
    "  - **One-Hot Encoded Dataset** → keeps one-hot categorical flags (best for Logistic Regression).  \n",
    "  - **Grouped Dataset** → keeps grouped categorical features (`*_grouped`) for tree-based models like XGBoost.  \n",
    "- Validated null values and column consistency.  \n",
    "- Exported both datasets to the `/data/final/` directory for direct use in model training.\n",
    "\n",
    "### Outputs  \n",
    "- `df_final_onehot.csv` → One-hot encoded dataset for Logistic Regression.  \n",
    "- `df_final_grouped.csv` → Grouped categorical dataset for XGBoost.  "
   ]
  },
  {
   "cell_type": "code",
   "execution_count": 1,
   "id": "6eca04f2-326f-48b1-af96-485f55974c12",
   "metadata": {},
   "outputs": [
    {
     "name": "stdout",
     "output_type": "stream",
     "text": [
      "✅ Loaded dataset\n",
      "Shape: (263136, 95)\n"
     ]
    },
    {
     "data": {
      "text/plain": [
       "Index(['nct_id', 'enrollment', 'overall_status', 'number_of_arms', 'has_dmc',\n",
       "       'has_expanded_access', 'is_fda_regulated_drug',\n",
       "       'is_fda_regulated_device', 'duration_of_study', 'phase_1', 'phase_2',\n",
       "       'phase_3', 'phase_4', 'phase_not applicable', 'intervention_behavioral',\n",
       "       'intervention_biological', 'intervention_combination_product',\n",
       "       'intervention_device', 'intervention_diagnostic_test',\n",
       "       'intervention_dietary_supplement', 'intervention_drug',\n",
       "       'intervention_genetic', 'intervention_other', 'intervention_procedure',\n",
       "       'intervention_radiation', 'intervention_count',\n",
       "       'has_multiple_intervention_types', 'condt_cancers',\n",
       "       'condt_cardiovascular_diseases', 'condt_dental_disorders',\n",
       "       'condt_dermatological_disorders', 'condt_endocrine/metabolic_disorders',\n",
       "       'condt_gastrointestinal_disorders', 'condt_genetic_disorders',\n",
       "       'condt_infectious_diseases', 'condt_mental_disorders',\n",
       "       'condt_musculoskeletal_disorders', 'condt_neurological_disorders',\n",
       "       'condt_opthamological_disorders', 'condt_others',\n",
       "       'condt_pain_disorders', 'condt_renal/urological_disorders',\n",
       "       'condt_reproductive_health', 'condt_respiratory_disorders',\n",
       "       'allocation_non_randomized', 'allocation_randomized',\n",
       "       'allocation_unknown', 'model_crossover', 'model_factorial',\n",
       "       'model_parallel', 'model_sequential', 'model_single_group',\n",
       "       'model_unknown', 'purpose_diagnostic', 'purpose_other',\n",
       "       'purpose_prevention', 'purpose_research', 'purpose_supportive_care',\n",
       "       'purpose_treatment', 'masking_double', 'masking_quadruple',\n",
       "       'masking_single', 'masking_triple', 'masking_unknown',\n",
       "       'healthy_volunteers', 'elig_gender_all', 'elig_gender_female',\n",
       "       'elig_gender_male', 'elig_age_adult', 'elig_age_child',\n",
       "       'elig_age_mixed', 'elig_age_senior', 'elig_age_unknown',\n",
       "       'sponsor_Government', 'sponsor_Industry', 'sponsor_Other',\n",
       "       'sponsor_Unknown', 'role_collaborator', 'role_lead', 'log_enrollment',\n",
       "       'log_duration', 'phase_grouped', 'intervention_grouped',\n",
       "       'condt_grouped', 'allocation_grouped', 'masking_grouped',\n",
       "       'model_grouped', 'purpose_grouped', 'sponsor_grouped',\n",
       "       'elig_gender_grouped', 'elig_age_grouped', 'high_enroll_flag_975',\n",
       "       'high_enroll_flag_99', 'duration_bins', 'arms_capped'],\n",
       "      dtype='object')"
      ]
     },
     "execution_count": 1,
     "metadata": {},
     "output_type": "execute_result"
    }
   ],
   "source": [
    "import numpy as np\n",
    "import pandas as pd\n",
    "\n",
    "# Load the cleaned dataset after EDA_3\n",
    "df_final = pd.read_csv('../data/processed/df_EDA_3.csv', keep_default_na=False)\n",
    "print(\"✅ Loaded dataset\")\n",
    "print(\"Shape:\", df_final.shape)\n",
    "\n",
    "# Inspect columns\n",
    "df_final.columns"
   ]
  },
  {
   "cell_type": "code",
   "execution_count": 2,
   "id": "71290b4a-c573-4849-b73d-a203edfdbcab",
   "metadata": {},
   "outputs": [],
   "source": [
    "# Drop columns used only during EDA (not needed for modeling)\n",
    "eda_only_cols = [\n",
    "    'role_collaborator', 'role_lead',      # sponsor role (dropped after EDA)\n",
    "    'duration_bins', 'arms_capped',        # engineered bins for EDA\n",
    "    'duration_of_study', 'enrollment'      # raw duration/enrollment (we keep log values instead)\n",
    "]\n",
    "\n",
    "df_final.drop(columns=eda_only_cols, inplace=True, errors=\"ignore\")"
   ]
  },
  {
   "cell_type": "code",
   "execution_count": 3,
   "id": "102814f5-2531-426e-82fa-cead5fb8caa8",
   "metadata": {},
   "outputs": [
    {
     "name": "stdout",
     "output_type": "stream",
     "text": [
      "One-Hot Dataset Shape: (263136, 79)\n"
     ]
    }
   ],
   "source": [
    "# Create One-Hot Encoded Dataset for LogReg\n",
    "# Drop grouped categorical columns, keep one-hot encoded flags\n",
    "df_final_onehot = df_final.drop(columns=[c for c in df_final if c.endswith('grouped')])\n",
    "print(\"One-Hot Dataset Shape:\", df_final_onehot.shape)"
   ]
  },
  {
   "cell_type": "code",
   "execution_count": 4,
   "id": "c0c0fe0f-ed97-4262-b693-8c94be5ebb4d",
   "metadata": {},
   "outputs": [
    {
     "name": "stdout",
     "output_type": "stream",
     "text": [
      "Grouped Dataset Shape: (263136, 24)\n"
     ]
    }
   ],
   "source": [
    "# Create Grouped Dataset for xgBoost\n",
    "# Define the core columns we want to retain in grouped dataset\n",
    "columns_to_keep = [\n",
    "    'nct_id', 'overall_status',\n",
    "    'number_of_arms', 'intervention_count',\n",
    "    'has_multiple_intervention_types',\n",
    "    'log_enrollment', 'log_duration',\n",
    "    'high_enroll_flag_975', 'high_enroll_flag_99',\n",
    "    'has_dmc', 'has_expanded_access', 'healthy_volunteers',\n",
    "    'is_fda_regulated_drug', 'is_fda_regulated_device'\n",
    "]\n",
    "\n",
    "# Keep grouped categorical variables + selected numeric/flags\n",
    "df_final_grouped = df_final[columns_to_keep + [c for c in df_final.columns if c.endswith('grouped')]]\n",
    "print(\"Grouped Dataset Shape:\", df_final_grouped.shape)"
   ]
  },
  {
   "cell_type": "code",
   "execution_count": 5,
   "id": "95535c1e-6a5f-485e-ba6a-ab390fd6dd78",
   "metadata": {},
   "outputs": [
    {
     "name": "stdout",
     "output_type": "stream",
     "text": [
      "Nulls in One-Hot: 0\n",
      "Nulls in Grouped: 0\n"
     ]
    }
   ],
   "source": [
    "# Quick sanity check for null values\n",
    "print(\"Nulls in One-Hot:\", df_final_onehot.isnull().sum().sum())\n",
    "print(\"Nulls in Grouped:\", df_final_grouped.isnull().sum().sum())"
   ]
  },
  {
   "cell_type": "code",
   "execution_count": 6,
   "id": "20c8d45b-9088-4fa8-8f6a-1f7358f7fef4",
   "metadata": {},
   "outputs": [
    {
     "name": "stdout",
     "output_type": "stream",
     "text": [
      "✅ Final datasets saved:\n",
      "One-Hot Encoded: (263136, 79) → ../data/final/df_final_onehot.csv\n",
      "Grouped: (263136, 24) → ../data/final/df_final_grouped.csv\n"
     ]
    }
   ],
   "source": [
    "# Save final datasets\n",
    "df_final_onehot.to_csv('../data/final/df_final_onehot.csv', index=False)\n",
    "df_final_grouped.to_csv('../data/final/df_final_grouped.csv', index=False)\n",
    "\n",
    "print(\"✅ Final datasets saved:\")\n",
    "print(\"One-Hot Encoded:\", df_final_onehot.shape, \"→ ../data/final/df_final_onehot.csv\")\n",
    "print(\"Grouped:\", df_final_grouped.shape, \"→ ../data/final/df_final_grouped.csv\")"
   ]
  },
  {
   "cell_type": "markdown",
   "id": "6fd1ac6d-60af-48ba-b361-9817f9a76f4e",
   "metadata": {},
   "source": [
    "---\n",
    "\n",
    "## Summary  \n",
    "This notebook finalized the preprocessing workflow by generating **two clean, modeling-ready datasets**.  \n",
    "\n",
    "Key outcomes:\n",
    "- Dropped redundant or EDA-only columns.  \n",
    "- Created separate inputs tailored for Logistic Regression (one-hot) and XGBoost (grouped).  \n",
    "- Verified there were **no missing values** or duplicate identifiers.  \n",
    "- Saved both datasets to the `/data/final/` directory.\n",
    "\n",
    "These files represent the **final feature space** used across all subsequent modeling notebooks.\n",
    "\n",
    "---\n",
    "\n",
    "📂 **Next Phase:** `Model_LogReg.ipynb` & `Model_XGBoost.ipynb` → Train, evaluate, and interpret machine learning models using the prepared datasets.\n"
   ]
  },
  {
   "cell_type": "code",
   "execution_count": null,
   "id": "5932d71b-c372-466a-8588-6913cb1211c0",
   "metadata": {},
   "outputs": [],
   "source": []
  }
 ],
 "metadata": {
  "kernelspec": {
   "display_name": "Python 3 (ipykernel)",
   "language": "python",
   "name": "python3"
  },
  "language_info": {
   "codemirror_mode": {
    "name": "ipython",
    "version": 3
   },
   "file_extension": ".py",
   "mimetype": "text/x-python",
   "name": "python",
   "nbconvert_exporter": "python",
   "pygments_lexer": "ipython3",
   "version": "3.12.7"
  }
 },
 "nbformat": 4,
 "nbformat_minor": 5
}
