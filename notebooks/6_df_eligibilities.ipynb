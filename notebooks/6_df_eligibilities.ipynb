{
 "cells": [
  {
   "cell_type": "markdown",
   "id": "b11dbc18-d9cd-4a82-9620-ac8762383d6d",
   "metadata": {},
   "source": [
    "# Preprocessing Notebook: `6_df_eligibilities.ipynb`\n",
    "\n",
    "### Description  \n",
    "Processes the **`eligibilities`** table from the AACT Clinical Trials database to standardize demographic and participation criteria such as gender, age limits, and healthy volunteer status.  \n",
    "These features describe population-level eligibility for each interventional study.\n",
    "\n",
    "### Key Steps  \n",
    "- Extracted `nct_id`, `gender`, `minimum_age`, `maximum_age`, and `healthy_volunteers` from AACT.  \n",
    "- Joined with `studies_clean.csv` to include **interventional trials only**.\n",
    "- Standardized gender values and converted missing entries to `\"all\"`.\n",
    "-  **Healthy volunteers encoding**: Maps boolean values to integers (`True → 1`, `False → 0`) and fills missing values with `-1`.\n",
    "- Converted age strings (e.g., `\"18 Years\"`, `\"6 Months\"`) into numeric years for uniform comparison.  \n",
    "- Derived **age group categories** → `child`, `adult`, `senior`, `mixed`, or `unknown`.  \n",
    "- Encoded categorical variables into binary flags (`elig_gender_*`, `elig_age_*`).  \n",
    "- Aggregated by `nct_id` to maintain one record per trial.  \n",
    "- Saved cleaned file to: `../data/processed/eligibilities_clean.csv`  \n",
    "\n",
    "### Output:\n",
    "- ✅ `eligibilities_clean.csv`"
   ]
  },
  {
   "cell_type": "code",
   "execution_count": 1,
   "id": "9f882bf0",
   "metadata": {},
   "outputs": [],
   "source": [
    "# Import required libraries and setup DB connection\n",
    "from sqlalchemy import create_engine\n",
    "import pandas as pd\n",
    "import numpy as np\n",
    "from dotenv import load_dotenv\n",
    "import os\n",
    "\n",
    "load_dotenv()\n",
    "DATABASE_URL = os.getenv('DATABASE_URL')\n",
    "engine = create_engine(DATABASE_URL)"
   ]
  },
  {
   "cell_type": "code",
   "execution_count": 2,
   "id": "4dee9b9f",
   "metadata": {},
   "outputs": [],
   "source": [
    "# Load eligibility data from AACT\n",
    "query = '''\n",
    "SELECT nct_id, gender, minimum_age, maximum_age, healthy_volunteers\n",
    "FROM ctgov.eligibilities;\n",
    "'''\n",
    "df_eligibilities = pd.read_sql(query, engine)\n",
    "\n",
    "df_studies = pd.read_csv('../data/processed/studies_clean.csv')\n",
    "df_eligibilities = df_eligibilities.merge(df_studies[['nct_id', 'study_type']], on='nct_id', how='left')\n",
    "df_eligibilities = df_eligibilities[df_eligibilities['study_type'] == 'INTERVENTIONAL']\n",
    "df_eligibilities.drop(columns=['study_type'], inplace=True)"
   ]
  },
  {
   "cell_type": "code",
   "execution_count": 3,
   "id": "5109ed2e",
   "metadata": {},
   "outputs": [],
   "source": [
    "# Clean gender and healthy_volunteers columns\n",
    "df_eligibilities['gender'] = df_eligibilities['gender'].str.lower().fillna('all')\n",
    "df_eligibilities['healthy_volunteers'] = df_eligibilities['healthy_volunteers'].map({True: 1, False: 0}).fillna(-1)"
   ]
  },
  {
   "cell_type": "code",
   "execution_count": 4,
   "id": "bcae49ef",
   "metadata": {},
   "outputs": [],
   "source": [
    "# Convert age strings to numeric (in years)\n",
    "def convert_age_to_years(age_str):\n",
    "    if pd.isnull(age_str): \n",
    "        return np.nan\n",
    "    val, unit = age_str.lower().split()\n",
    "    val = float(val)\n",
    "    if 'year' in unit: \n",
    "        return round(val, 2)\n",
    "    elif 'month' in unit: \n",
    "        return round(val / 12, 2)\n",
    "    elif 'week' in unit: \n",
    "        return round(val / 52, 2)\n",
    "    elif 'day' in unit: \n",
    "        return round(val / 365, 2)\n",
    "    else:\n",
    "        return np.nan\n",
    "\n",
    "df_eligibilities['minimum_age'] = df_eligibilities['minimum_age'].apply(convert_age_to_years)\n",
    "df_eligibilities['maximum_age'] = df_eligibilities['maximum_age'].apply(convert_age_to_years)"
   ]
  },
  {
   "cell_type": "code",
   "execution_count": 5,
   "id": "a79089e1",
   "metadata": {},
   "outputs": [],
   "source": [
    "# Classify age group based on min/max age\n",
    "def age_group(min_age, max_age):\n",
    "    if pd.isna(min_age) and pd.isna(max_age): \n",
    "        return 'unknown'\n",
    "    if pd.isna(min_age):\n",
    "        return 'child' if max_age < 18 else 'adult' if max_age <= 65 else 'senior'\n",
    "    if pd.isna(max_age):\n",
    "        return 'mixed' if min_age < 18 else 'adult' if min_age <= 65 else 'senior'\n",
    "    if max_age < 18: return 'child'\n",
    "    if min_age >= 18 and max_age <= 65: return 'adult'\n",
    "    if min_age > 65: return 'senior'\n",
    "    return 'mixed'\n",
    "\n",
    "df_eligibilities['age_group'] = df_eligibilities.apply(lambda row: age_group(row['minimum_age'], row['maximum_age']), axis=1)\n",
    "df_eligibilities.drop(columns=['minimum_age', 'maximum_age'], inplace=True)"
   ]
  },
  {
   "cell_type": "code",
   "execution_count": 6,
   "id": "17ef690f",
   "metadata": {},
   "outputs": [],
   "source": [
    "# One-hot encode `gender` and `age_group`\n",
    "df_eligibilities = pd.get_dummies(df_eligibilities, columns=['gender', 'age_group'], prefix=['elig_gender', 'elig_age'], dtype=int)\n",
    "\n",
    "# Group by `nct_id` to ensure one row per trial\n",
    "df_eligibilities = df_eligibilities.groupby('nct_id').max().reset_index()"
   ]
  },
  {
   "cell_type": "code",
   "execution_count": 7,
   "id": "0fd14d6b",
   "metadata": {},
   "outputs": [],
   "source": [
    "# Export final cleaned dataset\n",
    "df_eligibilities.to_csv('../data/processed/eligibilities_clean.csv', index=False)"
   ]
  },
  {
   "cell_type": "markdown",
   "id": "34f1ff4e-1720-42e7-a545-299e338385f3",
   "metadata": {},
   "source": [
    "## Summary  \n",
    "This notebook successfully processed participant eligibility criteria from the AACT database.  \n",
    "\n",
    "Key outcomes:\n",
    "- Transformed age values into standardized numeric years.\n",
    "- Encoded **healthy_volunteers** as 1 (yes), 0 (no), -1 (missing).\n",
    "- Derived categorical **age group** and **gender eligibility** variables.  \n",
    "- Encoded and aggregated all eligibility features at the trial level.  \n",
    "- Exported the final cleaned dataset: `eligibilities_clean.csv`.  \n",
    "\n",
    "---\n",
    "\n",
    "📂 **Next Notebook:** `7_df_sponsors.ipynb` → Standardizes sponsor types and roles (lead vs. collaborator) for inclusion in modeling.\n"
   ]
  }
 ],
 "metadata": {
  "kernelspec": {
   "display_name": "Python 3 (ipykernel)",
   "language": "python",
   "name": "python3"
  },
  "language_info": {
   "codemirror_mode": {
    "name": "ipython",
    "version": 3
   },
   "file_extension": ".py",
   "mimetype": "text/x-python",
   "name": "python",
   "nbconvert_exporter": "python",
   "pygments_lexer": "ipython3",
   "version": "3.12.7"
  }
 },
 "nbformat": 4,
 "nbformat_minor": 5
}
