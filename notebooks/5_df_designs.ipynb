{
 "cells": [
  {
   "cell_type": "markdown",
   "id": "3fc42bd3-d74b-47d0-acc4-7190e1a2e82b",
   "metadata": {},
   "source": [
    "# Preprocessing Notebook: `5_df_designs.ipynb`\n",
    "\n",
    "### Description  \n",
    "Processes the **`designs`** table from the AACT Clinical Trials database to extract and standardize trial design characteristics such as allocation, intervention model, masking, and primary purpose.  \n",
    "These features represent core study design attributes critical for modeling clinical trial outcomes.\n",
    "\n",
    "### Key Steps  \n",
    "- Load design-related columns (`allocation`, `intervention_model`, `primary_purpose`, `masking`) from the AACT schema.  \n",
    "- Merge with the cleaned `studies` dataset to include **interventional trials only**.  \n",
    "- Standardize categorical values by converting to lowercase and resolving inconsistencies.  \n",
    "- Drop logically invalid combinations (e.g., randomized + single_group).  \n",
    "- Consolidate related purpose categories (e.g., `basic_science`, `device_feasibility` → `research`).  \n",
    "- Handle missing or ambiguous values using standardized labels such as `unknown`.  \n",
    "- Apply one-hot encoding to design variables and aggregate features at the **trial (`nct_id`) level**.  \n",
    "- Export final dataset to `../data/processed/designs_clean.csv`\n",
    "\n",
    "### Output:\n",
    "- ✅ `designs_clean.csv`"
   ]
  },
  {
   "cell_type": "code",
   "execution_count": 1,
   "id": "4977db79",
   "metadata": {},
   "outputs": [],
   "source": [
    "# Load libraries and connect to database\n",
    "from sqlalchemy import create_engine\n",
    "import pandas as pd\n",
    "from dotenv import load_dotenv\n",
    "import os\n",
    "\n",
    "load_dotenv()\n",
    "DATABASE_URL = os.getenv('DATABASE_URL')\n",
    "engine = create_engine(DATABASE_URL)"
   ]
  },
  {
   "cell_type": "code",
   "execution_count": 2,
   "id": "319464b3",
   "metadata": {},
   "outputs": [],
   "source": [
    "# Load `designs` table with selected columns\n",
    "query = '''\n",
    "SELECT nct_id, allocation, intervention_model, primary_purpose, masking\n",
    "FROM ctgov.designs;\n",
    "'''\n",
    "df_designs = pd.read_sql(query, engine)\n",
    "\n",
    "# Merge with `studies_clean.csv` to filter only interventional trials\n",
    "df_studies = pd.read_csv('../data/processed/studies_clean.csv')\n",
    "df_designs = df_designs.merge(df_studies[['nct_id', 'study_type']], on='nct_id', how='left')\n",
    "df_designs = df_designs[df_designs['study_type'] == 'INTERVENTIONAL']\n",
    "df_designs.drop(columns=['study_type'], inplace=True)"
   ]
  },
  {
   "cell_type": "code",
   "execution_count": 3,
   "id": "5fdbe638-d0c6-49c7-b122-89c43533551a",
   "metadata": {},
   "outputs": [],
   "source": [
    "# Convert all object-type columns to lowercase (except `nct_id`)\n",
    "for col in df_designs.columns:\n",
    "    if col != 'nct_id' and df_designs[col].dtype == 'object':\n",
    "        df_designs[col] = df_designs[col].str.lower()"
   ]
  },
  {
   "cell_type": "code",
   "execution_count": 4,
   "id": "ac52512e",
   "metadata": {},
   "outputs": [],
   "source": [
    "# Drop logically inconsistent rows: randomized + single_group\n",
    "invalid_rows = (df_designs['intervention_model'] == 'single_group') & (df_designs['allocation'] == 'randomized')\n",
    "df_designs = df_designs.drop(df_designs[invalid_rows].index)"
   ]
  },
  {
   "cell_type": "code",
   "execution_count": 5,
   "id": "05026e5a",
   "metadata": {},
   "outputs": [],
   "source": [
    "# Fill missing values and fix logic mismatches\n",
    "df_designs.loc[(df_designs['intervention_model'] == 'single_group') & (df_designs['allocation'].isna()), 'allocation'] = 'non_randomized'\n",
    "df_designs.loc[(df_designs['intervention_model'] == 'single_group') & (df_designs['allocation'] == 'na'), 'allocation'] = 'non_randomized'\n",
    "\n",
    "df_designs['allocation'] = df_designs['allocation'].replace({'na': 'unknown'}).fillna('unknown')\n",
    "df_designs['intervention_model'] = df_designs['intervention_model'].fillna('unknown')"
   ]
  },
  {
   "cell_type": "code",
   "execution_count": 6,
   "id": "c4d208c3",
   "metadata": {},
   "outputs": [],
   "source": [
    "# Standardize and consolidate related primary_purpose categories\n",
    "df_designs['primary_purpose'] = df_designs['primary_purpose'].replace({\n",
    "    'basic_science': 'research',\n",
    "    'health_services_research': 'research',\n",
    "    'device_feasibility': 'research',\n",
    "    'screening': 'diagnostic',\n",
    "    'ect': 'other'\n",
    "}).fillna('other')"
   ]
  },
  {
   "cell_type": "code",
   "execution_count": 7,
   "id": "5a48b772",
   "metadata": {},
   "outputs": [],
   "source": [
    "# Normalize and fill `masking` values\n",
    "df_designs['masking'] = df_designs['masking'].replace({'none': 'unknown'}).fillna('unknown')"
   ]
  },
  {
   "cell_type": "code",
   "execution_count": 8,
   "id": "3177403a",
   "metadata": {},
   "outputs": [],
   "source": [
    "# One-hot encode design features and aggregate by trial\n",
    "df_designs = pd.get_dummies(\n",
    "    df_designs,\n",
    "    columns=['allocation', 'intervention_model', 'primary_purpose', 'masking'],\n",
    "    prefix=['allocation', 'model', 'purpose', 'masking'],\n",
    "    dtype=int\n",
    ")\n",
    "df_designs = df_designs.groupby('nct_id').max().reset_index()"
   ]
  },
  {
   "cell_type": "code",
   "execution_count": 9,
   "id": "3e659d58",
   "metadata": {},
   "outputs": [],
   "source": [
    "# Export cleaned design dataset\n",
    "df_designs.to_csv('../data/processed/designs_clean.csv', index=False)"
   ]
  },
  {
   "cell_type": "markdown",
   "id": "d80aef4e-c6a8-47f6-898a-12ca1eb3c514",
   "metadata": {},
   "source": [
    "## Summary  \n",
    "This notebook successfully extracted and standardized **trial design features** from the AACT database.  \n",
    "\n",
    "Key outcomes:\n",
    "- Cleaned and harmonized allocation, intervention model, masking, and purpose categories.  \n",
    "- Resolved missing and logically inconsistent design combinations.\n",
    "- Consolidated overlapping categories (e.g., grouped research-related purposes). \n",
    "- Applied one-hot encoding to categorical variables and ensured unique trial entries.  \n",
    "- Exported a compact, machine-learning-ready dataset: `designs_clean.csv`.  \n",
    "\n",
    "---\n",
    "\n",
    "📂 **Next Notebook:** `6_df_eligibilities.ipynb` → Processes participant eligibility and demographic criteria for each trial.\n"
   ]
  }
 ],
 "metadata": {
  "kernelspec": {
   "display_name": "Python 3 (ipykernel)",
   "language": "python",
   "name": "python3"
  },
  "language_info": {
   "codemirror_mode": {
    "name": "ipython",
    "version": 3
   },
   "file_extension": ".py",
   "mimetype": "text/x-python",
   "name": "python",
   "nbconvert_exporter": "python",
   "pygments_lexer": "ipython3",
   "version": "3.12.7"
  }
 },
 "nbformat": 4,
 "nbformat_minor": 5
}
