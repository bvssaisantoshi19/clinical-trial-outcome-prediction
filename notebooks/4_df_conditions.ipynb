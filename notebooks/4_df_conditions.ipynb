{
 "cells": [
  {
   "cell_type": "markdown",
   "id": "8ff3f281-d641-4f97-9db6-e60bd72eb5a1",
   "metadata": {},
   "source": [
    "# Preprocessing Notebook: `4_df_conditions.ipynb`\n",
    "\n",
    "### Description  \n",
    "Processes the **`conditions`** table from the AACT Clinical Trials database to create grouped, standardized features representing the medical conditions studied across interventional trials.  \n",
    "This notebook consolidates thousands of condition names into interpretable, model-ready condition categories.\n",
    "\n",
    "### Key Steps  \n",
    "- Load condition data (`nct_id`, `name`) from the AACT database using SQLAlchemy.  \n",
    "- Filter to include only **interventional studies** by joining with the cleaned `studies` dataset.  \n",
    "- Identify the **top 1000 most frequent conditions** for manual grouping and mapping.  \n",
    "- Apply **keyword-based classification** to categorize unmapped conditions using domain-specific logic (e.g., cancer, cardiovascular, infectious diseases).  \n",
    "- One-hot encode grouped condition categories (prefix `condt_`).  \n",
    "- Aggregate by trial (`nct_id`) to produce a single record per study.\n",
    "- Export final dataset to `../data/processed/conditions_clean.csv`\n",
    "\n",
    "### Output:\n",
    "- ✅ `conditions_clean.csv`"
   ]
  },
  {
   "cell_type": "code",
   "execution_count": 1,
   "id": "ee00c118",
   "metadata": {},
   "outputs": [],
   "source": [
    "# Load packages and connect to AACT database\n",
    "from sqlalchemy import create_engine\n",
    "import pandas as pd\n",
    "from dotenv import load_dotenv\n",
    "import os\n",
    "\n",
    "load_dotenv()\n",
    "DATABASE_URL = os.getenv('DATABASE_URL')\n",
    "engine = create_engine(DATABASE_URL)"
   ]
  },
  {
   "cell_type": "code",
   "execution_count": 2,
   "id": "b137598e",
   "metadata": {},
   "outputs": [],
   "source": [
    "# Load conditions and filter interventional studies\n",
    "query = \"\"\"\n",
    "SELECT nct_id, name\n",
    "FROM ctgov.conditions;\n",
    "\"\"\"\n",
    "df_conditions = pd.read_sql(query, engine)\n",
    "\n",
    "df_conditions['name'] = df_conditions['name'].str.lower()\n",
    "\n",
    "df_studies = pd.read_csv('../data/processed/studies_clean.csv')\n",
    "df_conditions = df_conditions.merge(df_studies[['nct_id', 'study_type']], on='nct_id', how='left')\n",
    "df_conditions = df_conditions[df_conditions['study_type'] == 'INTERVENTIONAL']\n",
    "df_conditions.drop(columns=['study_type'], inplace=True)"
   ]
  },
  {
   "cell_type": "code",
   "execution_count": 3,
   "id": "3c3306ad-29fe-4dfd-b030-c51496d1e14d",
   "metadata": {},
   "outputs": [],
   "source": [
    "# Export top 1000 most common condition names for manual review and grouping\n",
    "top_conditions = df_conditions['name'].value_counts().head(1000)\n",
    "top_conditions.to_csv('../data/processed/conditions_top1000.csv')"
   ]
  },
  {
   "cell_type": "code",
   "execution_count": 4,
   "id": "a52b18a6",
   "metadata": {},
   "outputs": [],
   "source": [
    "# Map top 1000 common conditions to grouped categories\n",
    "conditions_1000 = pd.read_csv('../data/processed/conditions_top1000_grouped.csv')\n",
    "mapping_dict = dict(zip(conditions_1000['name'], conditions_1000['grouped_conditions']))\n",
    "df_conditions['grouped_conditions'] = df_conditions['name'].map(mapping_dict)"
   ]
  },
  {
   "cell_type": "code",
   "execution_count": 5,
   "id": "5c894f66-827f-4f94-bb26-b31dfe608065",
   "metadata": {},
   "outputs": [],
   "source": [
    "# Define keyword-based classifier for unmapped conditions\n",
    "keyword_map = {\n",
    "    \"cancers\": [\"astrocytoma\", \"metastases\", \"leukemia\", \"lymphoma\", \"malignancy\", \"melanoma\", \"mds\", \"myelodysplastic\",\n",
    "                \"myeloproliferative\", \"cancer\", \"carcinoma\", \"tumor\", \"neoplasm\", \"sarcoma\", \"glioblastoma\", \"glioma\"],\n",
    "    \"cardiovascular_diseases\": [\"cardio\", \"arrhythmia\", \"atrial\", \"cardiac\", \"vein\", \"ischemia\", \"myocardial\", \"arterial\", \"vascular\", \"heart\", \"coronary\", \"aortic\", \"artery\", \"stroke\", \"hypertension\", \"angina\"],\n",
    "    \"dental_disorders\": [\"dental\", \"tooth\", \"caries\", \"periodontitis\", \"oral hygiene\", \"gingivitis\"],\n",
    "    \"dermatological_disorders\": [\"acne\", \"psoriasis\", \"eczema\", \"rash\", \"skin\", \"derm\"],\n",
    "    \"endocrine/metabolic_disorders\": [\"diabetes\", \"thyroid\", \"insulin\", \"metabolic\", \"endocrine\", \"glucose\", \"obesity\", \"overweight\", \"parathyroidism\"],\n",
    "    \"gastrointestinal_disorders\": [\"gastro\", \"liver\", \"colon\", \"bowel\", \"hepatitis\", \"ulcer\", \"esophageal\", \"pancreas\", \"celiac\", \"hernia\", \"colitis\", \"crohn\"],\n",
    "    \"genetic_disorders\": [\"genetic\", \"mutation\", \"chromosome\", \"inherited\", \"congenital\"],\n",
    "    \"hepatic_disorders\": [\"cirrhosis\", \"liver\", \"hepatic\", \"nafld\"],\n",
    "    \"infectious_diseases\": [\"corona\", \"sars\", \"immunodeficiency\", \"influenza\", \"sepsis\", \"tuberculosis\", \"tb\", \"std\", \"hiv\", \"viral\", \"bacterial\", \"infection\", \"covid\", \"hepatitis\"],\n",
    "    \"mental_health_disorders\": [\"delirium\", \"mental disorders\", \"ocd\", \"compulsive\", \"stress\", \"insomnia\", \"psychosis\", \"schizophrenia\", \"abuse\", \"dependence\", \"use disorders\", \"depression\", \"anxiety\", \"ptsd\", \n",
    "                         \"bipolar\", \"autism\", \"adhd\"],\n",
    "    \"musculoskeletal_disorders\": [\"arthritis\", \"disc\", \"fracture\", \"dystrophy\", \"myalgia\", \"gout\", \"osteo\", \"osteoporosis\", \"joint\", \"bone\", \"muscle\", \"capsulitis\", \"back pain\"],\n",
    "    \"neurological_disorders\": [\"neuro\", \"brain\", \"sclerosis\", \"cerebral\", \"stroke\", \"headache\", \"meningitis\", \"migraine\", \"nervous\", \"seizure\", \"parkinson\", \"epilepsy\", \"dementia\", \"als\", \"ms\"],\n",
    "    \"opthamological_disorders\": [\"eye\", \"glaucoma\", \"macular\", \"myopia\", \"presbyopia\", \"retina\"],\n",
    "    \"pain_disorders\": [\"pain\"],\n",
    "    \"respiratory_disorders\": [\"sinusitis\", \"respiratory\", \"bronchitis\", \"pulmonary\", \"copd\", \"cystic fibrosis\", \"pneumonia\", \"asthma\", \"lung\"],\n",
    "    \"renal/urological_disorders\": [\"renal\", \"kidney\", \"urinary\", \"bladder\", \"prostate\"],\n",
    "    \"reproductive_health\": [\"pregnancy\", \"fertility\", \"menstrual\", \"contraception\", \"ovarian\", \"uterine\", \"pcod\",\"ovary\", \"menopause\"]\n",
    "}\n"
   ]
  },
  {
   "cell_type": "code",
   "execution_count": 6,
   "id": "1df5854e",
   "metadata": {},
   "outputs": [],
   "source": [
    "# Define priority order \n",
    "priority_order = list(keyword_map.keys())\n",
    "\n",
    "# Classify using keyword_map\n",
    "def classify_condition_priority(name):\n",
    "    name = str(name).lower().strip()\n",
    "    for group in priority_order:\n",
    "        keywords = keyword_map[group]\n",
    "        if any(keyword in name for keyword in keywords):\n",
    "            return group\n",
    "    return \"others\""
   ]
  },
  {
   "cell_type": "code",
   "execution_count": 7,
   "id": "9ed755ba",
   "metadata": {},
   "outputs": [],
   "source": [
    "# Apply fallback classification to unmapped conditions\n",
    "df_conditions['grouped_conditions'] = df_conditions.apply(\n",
    "    lambda row: row['grouped_conditions'] if pd.notnull(row['grouped_conditions'])\n",
    "    else classify_condition_priority(row['name']), axis=1)"
   ]
  },
  {
   "cell_type": "code",
   "execution_count": 8,
   "id": "e82ad00f",
   "metadata": {},
   "outputs": [],
   "source": [
    "# Standardize and consolidate condition groups\n",
    "df_conditions['grouped_conditions'] = df_conditions['grouped_conditions'].replace({\n",
    "    'infectious_disorders': 'infectious_diseases',\n",
    "    'mental_health_disorders': 'mental_disorders',\n",
    "    'neurodevelopmental_disorders': 'mental_disorders',\n",
    "    'reproductive_disorders': 'reproductive_health',\n",
    "    'hepatic_disorders': 'gastrointestinal_disorders'\n",
    "})"
   ]
  },
  {
   "cell_type": "code",
   "execution_count": 9,
   "id": "6d2c9b4b",
   "metadata": {},
   "outputs": [],
   "source": [
    "# One-hot encode grouped condition categories\n",
    "df_conditions = pd.get_dummies(df_conditions, columns=['grouped_conditions'], prefix='condt', dtype=int)\n",
    "\n",
    "# Group by NCT ID\n",
    "df_conditions = df_conditions.groupby('nct_id').max().reset_index()\n",
    "df_conditions.drop(columns=['name', 'study_type', 'condt_healthy_participants'], inplace=True, errors='ignore')\n",
    "\n",
    "# Save cleaned condition features\n",
    "df_conditions.to_csv('../data/processed/conditions_clean.csv', index=False)"
   ]
  },
  {
   "cell_type": "markdown",
   "id": "0087e629-b0bc-46f9-858d-a7520f662d01",
   "metadata": {},
   "source": [
    "---\n",
    "\n",
    "## Summary  \n",
    "This notebook successfully standardized and categorized medical condition data from the AACT database.  \n",
    "\n",
    "Key transformations included:\n",
    "- Mapping and grouping the **top 1000 conditions** using manual review.  \n",
    "- Applying **keyword-based classification** for unmapped conditions.  \n",
    "- Consolidating overlapping categories for uniform labeling.  \n",
    "- Encoding final condition groups into binary flag variables (`condt_*`).  \n",
    "\n",
    "The resulting file — `conditions_clean.csv` — provides **interpretable, high-level clinical condition features** used in downstream EDA and modeling.\n",
    "\n",
    "---\n",
    "\n",
    "📂 **Next Notebook:** `5_df_designs.ipynb` → Processes study design details (allocation, masking, model, and purpose) for each trial.\n"
   ]
  },
  {
   "cell_type": "code",
   "execution_count": null,
   "id": "1bf1386c-eacb-48eb-8b4e-8be2904ee275",
   "metadata": {},
   "outputs": [],
   "source": []
  }
 ],
 "metadata": {
  "kernelspec": {
   "display_name": "Python 3 (ipykernel)",
   "language": "python",
   "name": "python3"
  },
  "language_info": {
   "codemirror_mode": {
    "name": "ipython",
    "version": 3
   },
   "file_extension": ".py",
   "mimetype": "text/x-python",
   "name": "python",
   "nbconvert_exporter": "python",
   "pygments_lexer": "ipython3",
   "version": "3.12.7"
  }
 },
 "nbformat": 4,
 "nbformat_minor": 5
}
