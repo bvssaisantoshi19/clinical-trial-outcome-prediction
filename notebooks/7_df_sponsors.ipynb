{
 "cells": [
  {
   "cell_type": "markdown",
   "id": "4ce02a59-d393-412d-946f-d6fac6555f16",
   "metadata": {},
   "source": [
    "# Preprocessing Notebook: `7_df_sponsors.ipynb`\n",
    "\n",
    "### Description  \n",
    "Processes the **`sponsors`** table from the AACT Clinical Trials database to extract and classify sponsor-related attributes, which play an important role in understanding trial oversight, funding source, and bias patterns in clinical success rates.\n",
    "\n",
    "\n",
    "### Key Steps  \n",
    "- Extracted `nct_id`, `agency_class`, and `lead_or_collaborator` from AACT schema.  \n",
    "- Standardized `agency_class` values into **Industry**, **Government**, **Other**, or **Unknown**.  \n",
    "- One-hot encoded sponsor type and role (lead vs collaborator).  \n",
    "- Aggregated sponsor-level information per trial (`nct_id`).  \n",
    "- Export final dataset to `../data/processed/sponsor_clean.csv`  \n",
    "\n",
    "### 📁 Output\n",
    "- ✅ `sponsor_clean.csv`"
   ]
  },
  {
   "cell_type": "code",
   "execution_count": 1,
   "id": "3063393c",
   "metadata": {},
   "outputs": [],
   "source": [
    "# Import required libraries and set up DB connection\n",
    "from sqlalchemy import create_engine\n",
    "import pandas as pd\n",
    "from dotenv import load_dotenv\n",
    "import os\n",
    "\n",
    "load_dotenv()\n",
    "DATABASE_URL = os.getenv('DATABASE_URL')\n",
    "engine = create_engine(DATABASE_URL)"
   ]
  },
  {
   "cell_type": "code",
   "execution_count": 2,
   "id": "53ced759",
   "metadata": {},
   "outputs": [],
   "source": [
    "# Load `sponsors` table from AACT\n",
    "query = '''\n",
    "SELECT nct_id, agency_class, lead_or_collaborator\n",
    "FROM ctgov.sponsors;\n",
    "'''\n",
    "df_sponsors = pd.read_sql(query, engine)"
   ]
  },
  {
   "cell_type": "code",
   "execution_count": 3,
   "id": "ae441536",
   "metadata": {},
   "outputs": [],
   "source": [
    "# Drop duplicate rows\n",
    "df_sponsors = df_sponsors.drop_duplicates()"
   ]
  },
  {
   "cell_type": "code",
   "execution_count": 4,
   "id": "ecab79a9",
   "metadata": {},
   "outputs": [],
   "source": [
    "# standardize `agency_class` values into broader categories\n",
    "def sponsor_type(val):\n",
    "    if val == 'INDUSTRY':\n",
    "        return 'Industry'\n",
    "    elif val in ['NIH', 'FED', 'OTHER_GOV']:\n",
    "        return 'Government'\n",
    "    elif val in ['OTHER', 'NETWORK', 'INDIV']:\n",
    "        return 'Other'\n",
    "    else:\n",
    "        return 'Unknown'\n",
    "\n",
    "df_sponsors['agency_class'] = df_sponsors['agency_class'].apply(sponsor_type)"
   ]
  },
  {
   "cell_type": "code",
   "execution_count": 5,
   "id": "81c634ce",
   "metadata": {},
   "outputs": [],
   "source": [
    "# One-hot encode sponsor type and role columns\n",
    "df_sponsors = pd.get_dummies(\n",
    "    df_sponsors,\n",
    "    columns=['agency_class', 'lead_or_collaborator'],\n",
    "    prefix=['sponsor', 'role'],\n",
    "    dtype=int\n",
    ")"
   ]
  },
  {
   "cell_type": "code",
   "execution_count": 6,
   "id": "e3e49a93",
   "metadata": {},
   "outputs": [],
   "source": [
    "# Aggregate encoded sponsor information by `nct_id`\n",
    "df_sponsors = df_sponsors.groupby('nct_id').max().reset_index()"
   ]
  },
  {
   "cell_type": "code",
   "execution_count": 7,
   "id": "2150812c",
   "metadata": {},
   "outputs": [],
   "source": [
    "# Sanity check and export cleaned dataset\n",
    "assert df_sponsors['nct_id'].is_unique, 'Duplicate trial entries found!'\n",
    "df_sponsors.to_csv('../data/processed/sponsors_clean.csv', index=False)"
   ]
  },
  {
   "cell_type": "markdown",
   "id": "8c0304f3-72ed-4c88-8cb3-edbbe800785d",
   "metadata": {},
   "source": [
    "---\n",
    "\n",
    "## Summary  \n",
    "This notebook extracted and standardized **sponsor-related features** from the AACT database.  \n",
    "\n",
    "Key outcomes:\n",
    "- Consolidated sponsor types into four categories: *Industry*, *Government*, *Other*, and *Unknown*.  \n",
    "- One-hot encoded both sponsor type and role (lead/collaborator).  \n",
    "- Aggregated multiple sponsor entries per trial into a single record.  \n",
    "- Exported the cleaned dataset: `sponsors_clean.csv`.\n",
    "\n",
    "---\n",
    "\n",
    "🔍 **Additional Note:**  \n",
    "During EDA, the **role feature (lead vs collaborator)** demonstrated low discriminative power and was excluded from final modeling.  \n",
    "Only the **sponsor type** variable was retained as it correlated more strongly with trial success probability.\n",
    "\n",
    "---\n",
    "\n",
    "📂 **Next Notebook:** `8_df_merged.ipynb` → Combines all cleaned tables into a single analytical dataset for exploratory data analysis"
   ]
  },
  {
   "cell_type": "code",
   "execution_count": null,
   "id": "e1885e2f-7dab-49c9-8cbe-894f137f4a4c",
   "metadata": {},
   "outputs": [],
   "source": []
  }
 ],
 "metadata": {
  "kernelspec": {
   "display_name": "Python 3 (ipykernel)",
   "language": "python",
   "name": "python3"
  },
  "language_info": {
   "codemirror_mode": {
    "name": "ipython",
    "version": 3
   },
   "file_extension": ".py",
   "mimetype": "text/x-python",
   "name": "python",
   "nbconvert_exporter": "python",
   "pygments_lexer": "ipython3",
   "version": "3.12.7"
  }
 },
 "nbformat": 4,
 "nbformat_minor": 5
}
