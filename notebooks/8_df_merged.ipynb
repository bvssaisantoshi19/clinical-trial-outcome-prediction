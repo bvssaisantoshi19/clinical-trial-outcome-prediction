{
 "cells": [
  {
   "cell_type": "markdown",
   "id": "e2ceaca0-1fac-4f14-b0f0-e9c36ccbd2b6",
   "metadata": {},
   "source": [
    "# Integration Notebook: `8_df_merged.ipynb`\n",
    "\n",
    "### Description  \n",
    "This notebook consolidates all cleaned feature tables from the AACT Clinical Trials database into a single, analysis-ready dataset.  \n",
    "It represents the **final preprocessing step** before Exploratory Data Analysis (EDA) and model development.\n",
    "\n",
    "### Key Steps  \n",
    "- Imported all previously cleaned datasets:  \n",
    "  - `studies_clean.csv`  \n",
    "  - `interventions_clean.csv`  \n",
    "  - `conditions_clean.csv`  \n",
    "  - `designs_clean.csv`  \n",
    "  - `eligibilities_clean.csv`  \n",
    "  - `sponsors_clean.csv`  \n",
    "- Sequentially merged all tables on the common identifier `nct_id` using left joins.  \n",
    "- Verified dataset integrity (no duplicate trials).  \n",
    "- Identified and handled missing values in one-hot encoded columns.  \n",
    "- Filled missing binary/flag columns with `0` to maintain consistency.  \n",
    "- Verified dataset dimensions and exported final merged file.\n",
    "- Saved consolidated dataset to: `../data/processed/df_merged.csv`  \n",
    "\n",
    "### Output:\n",
    "- ✅ `df_merged.csv`"
   ]
  },
  {
   "cell_type": "code",
   "execution_count": 1,
   "id": "5c4db5ac",
   "metadata": {},
   "outputs": [],
   "source": [
    "# Import libraries and load all feature datasets\n",
    "import pandas as pd\n",
    "from functools import reduce\n",
    "\n",
    "df_studies = pd.read_csv('../data/processed/studies_clean.csv')\n",
    "df_interventions = pd.read_csv('../data/processed/interventions_clean.csv')\n",
    "df_conditions = pd.read_csv('../data/processed/conditions_clean.csv')\n",
    "df_designs = pd.read_csv('../data/processed/designs_clean.csv')\n",
    "df_eligibilities = pd.read_csv('../data/processed/eligibilities_clean.csv')\n",
    "df_sponsors = pd.read_csv('../data/processed/sponsors_clean.csv')"
   ]
  },
  {
   "cell_type": "code",
   "execution_count": 2,
   "id": "f0d2f874",
   "metadata": {},
   "outputs": [],
   "source": [
    "# Merge all datasets sequentially on `nct_id`\n",
    "dfs_to_merge = [\n",
    "    df_studies,\n",
    "    df_interventions,\n",
    "    df_conditions,\n",
    "    df_designs,\n",
    "    df_eligibilities,\n",
    "    df_sponsors\n",
    "]\n",
    "\n",
    "df_merged = reduce(lambda left, right: pd.merge(left, right, on='nct_id', how='left'), dfs_to_merge)"
   ]
  },
  {
   "cell_type": "code",
   "execution_count": 3,
   "id": "02df1d81-6b0c-4c54-8eab-b8c0eee55008",
   "metadata": {},
   "outputs": [
    {
     "data": {
      "text/plain": [
       "Index(['nct_id', 'study_type', 'enrollment', 'overall_status',\n",
       "       'number_of_arms', 'has_dmc', 'has_expanded_access',\n",
       "       'is_fda_regulated_drug', 'is_fda_regulated_device', 'duration_of_study',\n",
       "       'phase_1', 'phase_2', 'phase_3', 'phase_4', 'phase_not applicable',\n",
       "       'intervention_behavioral', 'intervention_biological',\n",
       "       'intervention_combination_product', 'intervention_device',\n",
       "       'intervention_diagnostic_test', 'intervention_dietary_supplement',\n",
       "       'intervention_drug', 'intervention_genetic', 'intervention_other',\n",
       "       'intervention_procedure', 'intervention_radiation',\n",
       "       'intervention_count', 'has_multiple_intervention_types',\n",
       "       'condt_cancers', 'condt_cardiovascular_diseases',\n",
       "       'condt_dental_disorders', 'condt_dermatological_disorders',\n",
       "       'condt_endocrine/metabolic_disorders',\n",
       "       'condt_gastrointestinal_disorders', 'condt_genetic_disorders',\n",
       "       'condt_infectious_diseases', 'condt_mental_disorders',\n",
       "       'condt_musculoskeletal_disorders', 'condt_neurological_disorders',\n",
       "       'condt_opthamological_disorders', 'condt_others',\n",
       "       'condt_pain_disorders', 'condt_renal/urological_disorders',\n",
       "       'condt_reproductive_health', 'condt_respiratory_disorders',\n",
       "       'allocation_non_randomized', 'allocation_randomized',\n",
       "       'allocation_unknown', 'model_crossover', 'model_factorial',\n",
       "       'model_parallel', 'model_sequential', 'model_single_group',\n",
       "       'model_unknown', 'purpose_diagnostic', 'purpose_other',\n",
       "       'purpose_prevention', 'purpose_research', 'purpose_supportive_care',\n",
       "       'purpose_treatment', 'masking_double', 'masking_quadruple',\n",
       "       'masking_single', 'masking_triple', 'masking_unknown',\n",
       "       'healthy_volunteers', 'elig_gender_all', 'elig_gender_female',\n",
       "       'elig_gender_male', 'elig_age_adult', 'elig_age_child',\n",
       "       'elig_age_mixed', 'elig_age_senior', 'elig_age_unknown',\n",
       "       'sponsor_Government', 'sponsor_Industry', 'sponsor_Other',\n",
       "       'sponsor_Unknown', 'role_collaborator', 'role_lead'],\n",
       "      dtype='object')"
      ]
     },
     "execution_count": 3,
     "metadata": {},
     "output_type": "execute_result"
    }
   ],
   "source": [
    "df_merged.columns"
   ]
  },
  {
   "cell_type": "code",
   "execution_count": 4,
   "id": "517ce2a9",
   "metadata": {},
   "outputs": [
    {
     "data": {
      "text/plain": [
       "masking_double                      5791\n",
       "model_single_group                  5791\n",
       "purpose_treatment                   5791\n",
       "purpose_prevention                  5791\n",
       "masking_quadruple                   5791\n",
       "masking_single                      5791\n",
       "masking_triple                      5791\n",
       "masking_unknown                     5791\n",
       "purpose_other                       5791\n",
       "purpose_diagnostic                  5791\n",
       "model_unknown                       5791\n",
       "model_sequential                    5791\n",
       "purpose_research                    5791\n",
       "model_parallel                      5791\n",
       "model_factorial                     5791\n",
       "model_crossover                     5791\n",
       "allocation_unknown                  5791\n",
       "allocation_randomized               5791\n",
       "allocation_non_randomized           5791\n",
       "purpose_supportive_care             5791\n",
       "condt_respiratory_disorders            0\n",
       "condt_reproductive_health              0\n",
       "condt_renal/urological_disorders       0\n",
       "nct_id                                 0\n",
       "study_type                             0\n",
       "healthy_volunteers                     0\n",
       "elig_gender_all                        0\n",
       "elig_gender_female                     0\n",
       "elig_gender_male                       0\n",
       "elig_age_adult                         0\n",
       "dtype: int64"
      ]
     },
     "execution_count": 4,
     "metadata": {},
     "output_type": "execute_result"
    }
   ],
   "source": [
    "# Check for missing values\n",
    "df_merged.isnull().sum().sort_values(ascending=False).head(30)"
   ]
  },
  {
   "cell_type": "code",
   "execution_count": 5,
   "id": "f19bb3a1",
   "metadata": {},
   "outputs": [
    {
     "data": {
      "text/plain": [
       "0"
      ]
     },
     "execution_count": 5,
     "metadata": {},
     "output_type": "execute_result"
    }
   ],
   "source": [
    "# Check for duplicate trial entries\n",
    "df_merged['nct_id'].duplicated().sum()"
   ]
  },
  {
   "cell_type": "code",
   "execution_count": 6,
   "id": "80d24893",
   "metadata": {},
   "outputs": [],
   "source": [
    "# Fill missing values in one-hot encoded features with 0\n",
    "flag_cols = df_merged.columns[df_merged.isnull().sum() == 5791]\n",
    "df_merged[flag_cols] = df_merged[flag_cols].fillna(0)"
   ]
  },
  {
   "cell_type": "code",
   "execution_count": 7,
   "id": "dd46ee0e",
   "metadata": {},
   "outputs": [
    {
     "name": "stdout",
     "output_type": "stream",
     "text": [
      "Total missing values in the dataset: 0\n",
      "Final shape after merging and filling nulls: (263165, 80)\n"
     ]
    }
   ],
   "source": [
    "# Final checking \n",
    "print(\"Total missing values in the dataset:\", df_merged.isnull().sum().sum())\n",
    "print(\"Final shape after merging and filling nulls:\", df_merged.shape)"
   ]
  },
  {
   "cell_type": "code",
   "execution_count": 8,
   "id": "153199ff",
   "metadata": {},
   "outputs": [],
   "source": [
    "# Export merged dataset\n",
    "df_merged.to_csv('../data/processed/df_merged.csv', index=False)"
   ]
  },
  {
   "cell_type": "markdown",
   "id": "8080fbbe-f803-4221-861f-03865738dc59",
   "metadata": {},
   "source": [
    "---\n",
    "\n",
    "## Summary  \n",
    "This notebook successfully consolidated all preprocessed AACT feature tables into a single dataset.  \n",
    "\n",
    "Key outcomes:\n",
    "- Merged six cleaned tables (`studies`, `interventions`, `conditions`, `designs`, `eligibilities`, `sponsors`).  \n",
    "- Verified no duplicate `nct_id` entries.  \n",
    "- Filled missing values in one-hot encoded columns with `0`.  \n",
    "- Produced a final, clean dataset ready for downstream EDA and model training.  \n",
    "\n",
    "---\n",
    "\n",
    "📂 **Next Phase:** Exploratory Data Analysis  \n",
    "The next step involves statistical inspection, visualization, and feature-target relationship assessment to identify patterns predictive of clinical trial outcomes.\n"
   ]
  },
  {
   "cell_type": "code",
   "execution_count": null,
   "id": "487becc2-bda8-4952-a698-4e31dd8490e4",
   "metadata": {},
   "outputs": [],
   "source": []
  }
 ],
 "metadata": {
  "kernelspec": {
   "display_name": "Python 3 (ipykernel)",
   "language": "python",
   "name": "python3"
  },
  "language_info": {
   "codemirror_mode": {
    "name": "ipython",
    "version": 3
   },
   "file_extension": ".py",
   "mimetype": "text/x-python",
   "name": "python",
   "nbconvert_exporter": "python",
   "pygments_lexer": "ipython3",
   "version": "3.12.7"
  }
 },
 "nbformat": 4,
 "nbformat_minor": 5
}
